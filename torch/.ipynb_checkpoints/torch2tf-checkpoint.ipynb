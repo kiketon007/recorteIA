{
 "cells": [
  {
   "cell_type": "code",
   "execution_count": 1,
   "metadata": {},
   "outputs": [
    {
     "name": "stderr",
     "output_type": "stream",
     "text": [
      "/usr/local/lib/python3.6/site-packages/onnx_tf/common/__init__.py:87: UserWarning: FrontendHandler.get_outputs_names is deprecated. It will be removed in future release.. Use node.outputs instead.\n",
      "  warnings.warn(message)\n"
     ]
    }
   ],
   "source": [
    "import torch\n",
    "from torch import nn\n",
    "import torch.onnx\n",
    "import tensorflow as tf \n",
    "from onnx_tf.backend import prepare"
   ]
  },
  {
   "cell_type": "code",
   "execution_count": 2,
   "metadata": {},
   "outputs": [],
   "source": [
    "class ResBlock(nn.Module):\n",
    "    def __init__(self, channels):\n",
    "        super(ResBlock, self).__init__()\n",
    "        \n",
    "        self.resblock = nn.Sequential(\n",
    "            nn.Conv2d(channels, channels, kernel_size=3, padding=1),\n",
    "            nn.InstanceNorm2d(channels, affine=True),\n",
    "            nn.ReLU(),\n",
    "            nn.Conv2d(channels, channels, kernel_size=3, padding=1),\n",
    "            nn.InstanceNorm2d(channels, affine=True),\n",
    "        )\n",
    "        \n",
    "    def forward(self, x):\n",
    "        out = self.resblock(x)\n",
    "        return out + x\n",
    "\n",
    "class MicroResNet(nn.Module):\n",
    "    def __init__(self):\n",
    "        super(MicroResNet, self).__init__()\n",
    "        \n",
    "        self.downsampler = nn.Sequential(\n",
    "            nn.Conv2d(3, 8, kernel_size=9, padding=4),\n",
    "            nn.InstanceNorm2d(8, affine=True),\n",
    "            nn.ReLU(),\n",
    "            nn.Conv2d(8, 16, kernel_size=3, padding=1, stride=2),\n",
    "            nn.InstanceNorm2d(16, affine=True),\n",
    "            nn.ReLU(),\n",
    "            nn.Conv2d(16, 32, kernel_size=3, padding=1, stride=4),\n",
    "            nn.InstanceNorm2d(32, affine=True),\n",
    "            nn.ReLU()\n",
    "        )\n",
    "        \n",
    "        self.residual = nn.Sequential(\n",
    "            ResBlock(32),\n",
    "            ResBlock(32)\n",
    "        )\n",
    "        \n",
    "        self.segmentator = nn.Sequential(\n",
    "            nn.Conv2d(32, 16, kernel_size=3, padding=1),\n",
    "            nn.InstanceNorm2d(16, affine=True),\n",
    "            nn.ReLU(),\n",
    "            nn.Conv2d(16, 1, kernel_size=9, padding=4),\n",
    "            nn.Sigmoid()\n",
    "        )\n",
    "        \n",
    "    def forward(self, x):\n",
    "        out = self.downsampler(x)\n",
    "        for i in range(2): # recursively use the same simple block 2 times\n",
    "            out = self.residual(out)\n",
    "        out = self.segmentator(out)\n",
    "        return out"
   ]
  },
  {
   "cell_type": "code",
   "execution_count": 3,
   "metadata": {},
   "outputs": [
    {
     "data": {
      "text/plain": [
       "MicroResNet(\n",
       "  (downsampler): Sequential(\n",
       "    (0): Conv2d(3, 8, kernel_size=(9, 9), stride=(1, 1), padding=(4, 4))\n",
       "    (1): InstanceNorm2d(8, eps=1e-05, momentum=0.1, affine=True, track_running_stats=False)\n",
       "    (2): ReLU()\n",
       "    (3): Conv2d(8, 16, kernel_size=(3, 3), stride=(2, 2), padding=(1, 1))\n",
       "    (4): InstanceNorm2d(16, eps=1e-05, momentum=0.1, affine=True, track_running_stats=False)\n",
       "    (5): ReLU()\n",
       "    (6): Conv2d(16, 32, kernel_size=(3, 3), stride=(4, 4), padding=(1, 1))\n",
       "    (7): InstanceNorm2d(32, eps=1e-05, momentum=0.1, affine=True, track_running_stats=False)\n",
       "    (8): ReLU()\n",
       "  )\n",
       "  (residual): Sequential(\n",
       "    (0): ResBlock(\n",
       "      (resblock): Sequential(\n",
       "        (0): Conv2d(32, 32, kernel_size=(3, 3), stride=(1, 1), padding=(1, 1))\n",
       "        (1): InstanceNorm2d(32, eps=1e-05, momentum=0.1, affine=True, track_running_stats=False)\n",
       "        (2): ReLU()\n",
       "        (3): Conv2d(32, 32, kernel_size=(3, 3), stride=(1, 1), padding=(1, 1))\n",
       "        (4): InstanceNorm2d(32, eps=1e-05, momentum=0.1, affine=True, track_running_stats=False)\n",
       "      )\n",
       "    )\n",
       "    (1): ResBlock(\n",
       "      (resblock): Sequential(\n",
       "        (0): Conv2d(32, 32, kernel_size=(3, 3), stride=(1, 1), padding=(1, 1))\n",
       "        (1): InstanceNorm2d(32, eps=1e-05, momentum=0.1, affine=True, track_running_stats=False)\n",
       "        (2): ReLU()\n",
       "        (3): Conv2d(32, 32, kernel_size=(3, 3), stride=(1, 1), padding=(1, 1))\n",
       "        (4): InstanceNorm2d(32, eps=1e-05, momentum=0.1, affine=True, track_running_stats=False)\n",
       "      )\n",
       "    )\n",
       "  )\n",
       "  (segmentator): Sequential(\n",
       "    (0): Conv2d(32, 16, kernel_size=(3, 3), stride=(1, 1), padding=(1, 1))\n",
       "    (1): InstanceNorm2d(16, eps=1e-05, momentum=0.1, affine=True, track_running_stats=False)\n",
       "    (2): ReLU()\n",
       "    (3): Conv2d(16, 1, kernel_size=(9, 9), stride=(1, 1), padding=(4, 4))\n",
       "    (4): Sigmoid()\n",
       "  )\n",
       ")"
      ]
     },
     "execution_count": 3,
     "metadata": {},
     "output_type": "execute_result"
    }
   ],
   "source": [
    "model = MicroResNet()\n",
    "\n",
    "checkpoint = torch.load('saliency_model_v4.pt')\n",
    "model.load_state_dict(checkpoint)\n",
    "model.eval()"
   ]
  },
  {
   "cell_type": "code",
   "execution_count": 20,
   "metadata": {},
   "outputs": [],
   "source": [
    "with torch.no_grad():\n",
    "    x = torch.randn(1, 3, 240, 320, requires_grad=True)\n",
    "    torch_out = torch.onnx._export(model, x, \"saliency.onnx\", export_params=True)"
   ]
  },
  {
   "cell_type": "code",
   "execution_count": 47,
   "metadata": {},
   "outputs": [],
   "source": [
    "onnx_model = onnx.load(\"saliency.onnx\")  # load onnx model\n",
    "tf_rep = prepare(onnx_model)  # prepare tf representation\n",
    "tf_rep.export_graph(\"saliency.pb\")  # export the model"
   ]
  },
  {
   "cell_type": "code",
   "execution_count": 4,
   "metadata": {
    "scrolled": false
   },
   "outputs": [
    {
     "data": {
      "text/plain": [
       "[name: \"0\"\n",
       " op: \"Placeholder\"\n",
       " attr {\n",
       "   key: \"dtype\"\n",
       "   value {\n",
       "     type: DT_FLOAT\n",
       "   }\n",
       " }\n",
       " attr {\n",
       "   key: \"shape\"\n",
       "   value {\n",
       "     shape {\n",
       "       dim {\n",
       "         size: 1\n",
       "       }\n",
       "       dim {\n",
       "         size: 3\n",
       "       }\n",
       "       dim {\n",
       "         size: 240\n",
       "       }\n",
       "       dim {\n",
       "         size: 320\n",
       "       }\n",
       "     }\n",
       "   }\n",
       " }]"
      ]
     },
     "execution_count": 4,
     "metadata": {},
     "output_type": "execute_result"
    }
   ],
   "source": [
    "g = tf.GraphDef()\n",
    "g.ParseFromString(open(\"saliency.pb\", \"rb\").read())\n",
    "\n",
    "# g.node\n",
    "[n for n in g.node if n.name == '0']"
   ]
  },
  {
   "cell_type": "code",
   "execution_count": 13,
   "metadata": {},
   "outputs": [
    {
     "name": "stdout",
     "output_type": "stream",
     "text": [
      "Traceback (most recent call last):\r\n",
      "  File \"/usr/local/bin/tflite_convert\", line 6, in <module>\r\n",
      "    from tensorflow.lite.python.tflite_convert import main\r\n",
      "  File \"/usr/local/lib/python3.6/site-packages/tensorflow/__init__.py\", line 34, in <module>\r\n",
      "    from tensorflow._api.v1 import compat\r\n",
      "  File \"/usr/local/lib/python3.6/site-packages/tensorflow/_api/v1/compat/__init__.py\", line 21, in <module>\r\n",
      "    from tensorflow._api.v1.compat import v1\r\n",
      "  File \"/usr/local/lib/python3.6/site-packages/tensorflow/_api/v1/compat/v1/__init__.py\", line 71, in <module>\r\n",
      "    from tensorflow._api.v1.compat.v1 import test\r\n",
      "  File \"/usr/local/lib/python3.6/site-packages/tensorflow/_api/v1/compat/v1/test/__init__.py\", line 24, in <module>\r\n",
      "    from tensorflow.python.platform.googletest import mock\r\n",
      "ImportError: cannot import name 'mock'\r\n"
     ]
    }
   ],
   "source": [
    "# IMPORTANT --input_arrays=0 --output_arrays=Sigmoid\n",
    "!tflite_convert --output_file=saliency.tflite --graph_def_file=saliency.pb --input_arrays=0 --output_arrays=Sigmoid\n"
   ]
  },
  {
   "cell_type": "code",
   "execution_count": null,
   "metadata": {},
   "outputs": [],
   "source": []
  }
 ],
 "metadata": {
  "kernelspec": {
   "display_name": "Python 3",
   "language": "python",
   "name": "python3"
  },
  "language_info": {
   "codemirror_mode": {
    "name": "ipython",
    "version": 3
   },
   "file_extension": ".py",
   "mimetype": "text/x-python",
   "name": "python",
   "nbconvert_exporter": "python",
   "pygments_lexer": "ipython3",
   "version": "3.6.5"
  }
 },
 "nbformat": 4,
 "nbformat_minor": 2
}

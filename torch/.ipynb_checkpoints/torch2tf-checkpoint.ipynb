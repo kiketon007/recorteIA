{
 "cells": [
  {
   "cell_type": "code",
   "execution_count": 5,
   "metadata": {},
   "outputs": [],
   "source": [
    "import torch\n",
    "from torch import nn\n",
    "import torch.onnx\n",
    "import tensorflow as tf \n",
    "from onnx_tf.backend import prepare\n",
    "import onnx"
   ]
  },
  {
   "cell_type": "code",
   "execution_count": 6,
   "metadata": {},
   "outputs": [],
   "source": [
    "class ResBlock(nn.Module):\n",
    "    def __init__(self, channels):\n",
    "        super(ResBlock, self).__init__()\n",
    "        \n",
    "        self.resblock = nn.Sequential(\n",
    "            nn.Conv2d(channels, channels, kernel_size=3, padding=1),\n",
    "            nn.InstanceNorm2d(channels, affine=True),\n",
    "            nn.ReLU(),\n",
    "            nn.Conv2d(channels, channels, kernel_size=3, padding=1),\n",
    "            nn.InstanceNorm2d(channels, affine=True),\n",
    "        )\n",
    "        \n",
    "    def forward(self, x):\n",
    "        out = self.resblock(x)\n",
    "        return out + x\n",
    "\n",
    "class MicroResNet(nn.Module):\n",
    "    def __init__(self):\n",
    "        super(MicroResNet, self).__init__()\n",
    "        \n",
    "        self.downsampler = nn.Sequential(\n",
    "            nn.Conv2d(3, 8, kernel_size=9, padding=4),\n",
    "            nn.InstanceNorm2d(8, affine=True),\n",
    "            nn.ReLU(),\n",
    "            nn.Conv2d(8, 16, kernel_size=3, padding=1, stride=2),\n",
    "            nn.InstanceNorm2d(16, affine=True),\n",
    "            nn.ReLU(),\n",
    "            nn.Conv2d(16, 32, kernel_size=3, padding=1, stride=4),\n",
    "            nn.InstanceNorm2d(32, affine=True),\n",
    "            nn.ReLU()\n",
    "        )\n",
    "        \n",
    "        self.residual = nn.Sequential(\n",
    "            ResBlock(32),\n",
    "            ResBlock(32)\n",
    "        )\n",
    "        \n",
    "        self.segmentator = nn.Sequential(\n",
    "            nn.Conv2d(32, 16, kernel_size=3, padding=1),\n",
    "            nn.InstanceNorm2d(16, affine=True),\n",
    "            nn.ReLU(),\n",
    "            nn.Conv2d(16, 1, kernel_size=9, padding=4),\n",
    "            nn.Sigmoid()\n",
    "        )\n",
    "        \n",
    "    def forward(self, x):\n",
    "        out = self.downsampler(x)\n",
    "        for i in range(2): # recursively use the same simple block 2 times\n",
    "            out = self.residual(out)\n",
    "        out = self.segmentator(out)\n",
    "        return out"
   ]
  },
  {
   "cell_type": "code",
   "execution_count": 7,
   "metadata": {},
   "outputs": [
    {
     "data": {
      "text/plain": [
       "MicroResNet(\n",
       "  (downsampler): Sequential(\n",
       "    (0): Conv2d(3, 8, kernel_size=(9, 9), stride=(1, 1), padding=(4, 4))\n",
       "    (1): InstanceNorm2d(8, eps=1e-05, momentum=0.1, affine=True, track_running_stats=False)\n",
       "    (2): ReLU()\n",
       "    (3): Conv2d(8, 16, kernel_size=(3, 3), stride=(2, 2), padding=(1, 1))\n",
       "    (4): InstanceNorm2d(16, eps=1e-05, momentum=0.1, affine=True, track_running_stats=False)\n",
       "    (5): ReLU()\n",
       "    (6): Conv2d(16, 32, kernel_size=(3, 3), stride=(4, 4), padding=(1, 1))\n",
       "    (7): InstanceNorm2d(32, eps=1e-05, momentum=0.1, affine=True, track_running_stats=False)\n",
       "    (8): ReLU()\n",
       "  )\n",
       "  (residual): Sequential(\n",
       "    (0): ResBlock(\n",
       "      (resblock): Sequential(\n",
       "        (0): Conv2d(32, 32, kernel_size=(3, 3), stride=(1, 1), padding=(1, 1))\n",
       "        (1): InstanceNorm2d(32, eps=1e-05, momentum=0.1, affine=True, track_running_stats=False)\n",
       "        (2): ReLU()\n",
       "        (3): Conv2d(32, 32, kernel_size=(3, 3), stride=(1, 1), padding=(1, 1))\n",
       "        (4): InstanceNorm2d(32, eps=1e-05, momentum=0.1, affine=True, track_running_stats=False)\n",
       "      )\n",
       "    )\n",
       "    (1): ResBlock(\n",
       "      (resblock): Sequential(\n",
       "        (0): Conv2d(32, 32, kernel_size=(3, 3), stride=(1, 1), padding=(1, 1))\n",
       "        (1): InstanceNorm2d(32, eps=1e-05, momentum=0.1, affine=True, track_running_stats=False)\n",
       "        (2): ReLU()\n",
       "        (3): Conv2d(32, 32, kernel_size=(3, 3), stride=(1, 1), padding=(1, 1))\n",
       "        (4): InstanceNorm2d(32, eps=1e-05, momentum=0.1, affine=True, track_running_stats=False)\n",
       "      )\n",
       "    )\n",
       "  )\n",
       "  (segmentator): Sequential(\n",
       "    (0): Conv2d(32, 16, kernel_size=(3, 3), stride=(1, 1), padding=(1, 1))\n",
       "    (1): InstanceNorm2d(16, eps=1e-05, momentum=0.1, affine=True, track_running_stats=False)\n",
       "    (2): ReLU()\n",
       "    (3): Conv2d(16, 1, kernel_size=(9, 9), stride=(1, 1), padding=(4, 4))\n",
       "    (4): Sigmoid()\n",
       "  )\n",
       ")"
      ]
     },
     "execution_count": 7,
     "metadata": {},
     "output_type": "execute_result"
    }
   ],
   "source": [
    "model = MicroResNet()\n",
    "\n",
    "checkpoint = torch.load('saliency_model_v4.pt')\n",
    "model.load_state_dict(checkpoint)\n",
    "model.eval()"
   ]
  },
  {
   "cell_type": "code",
   "execution_count": 9,
   "metadata": {},
   "outputs": [],
   "source": [
    "with torch.no_grad():\n",
    "    x = torch.randn(1, 3, 240, 320, requires_grad=True)\n",
    "    torch_out = torch.onnx._export(model, x, \"saliency.onnx\", export_params=True)"
   ]
  },
  {
   "cell_type": "code",
   "execution_count": 10,
   "metadata": {},
   "outputs": [
    {
     "name": "stderr",
     "output_type": "stream",
     "text": [
      "/usr/local/lib/python3.6/site-packages/onnx_tf/common/handler_helper.py:73: UserWarning: Unknown op ConstantFill in domain `ai.onnx`.\n",
      "  handler.ONNX_OP, handler.DOMAIN or \"ai.onnx\"))\n",
      "/usr/local/lib/python3.6/site-packages/onnx_tf/common/handler_helper.py:73: UserWarning: Unknown op MeanVarianceNormalization in domain `ai.onnx`.\n",
      "  handler.ONNX_OP, handler.DOMAIN or \"ai.onnx\"))\n"
     ]
    }
   ],
   "source": [
    "onnx_model = onnx.load(\"saliency.onnx\")  # load onnx model\n",
    "tf_rep = prepare(onnx_model)  # prepare tf representation\n",
    "tf_rep.export_graph(\"saliency.pb\")  # export the model"
   ]
  },
  {
   "cell_type": "code",
   "execution_count": 11,
   "metadata": {
    "scrolled": false
   },
   "outputs": [
    {
     "data": {
      "text/plain": [
       "[name: \"0\"\n",
       " op: \"Placeholder\"\n",
       " attr {\n",
       "   key: \"dtype\"\n",
       "   value {\n",
       "     type: DT_FLOAT\n",
       "   }\n",
       " }\n",
       " attr {\n",
       "   key: \"shape\"\n",
       "   value {\n",
       "     shape {\n",
       "       dim {\n",
       "         size: 1\n",
       "       }\n",
       "       dim {\n",
       "         size: 3\n",
       "       }\n",
       "       dim {\n",
       "         size: 240\n",
       "       }\n",
       "       dim {\n",
       "         size: 320\n",
       "       }\n",
       "     }\n",
       "   }\n",
       " }]"
      ]
     },
     "execution_count": 11,
     "metadata": {},
     "output_type": "execute_result"
    }
   ],
   "source": [
    "g = tf.GraphDef()\n",
    "g.ParseFromString(open(\"saliency.pb\", \"rb\").read())\n",
    "\n",
    "# g.node\n",
    "[n for n in g.node if n.name == '0']"
   ]
  },
  {
   "cell_type": "code",
   "execution_count": 4,
   "metadata": {},
   "outputs": [
    {
     "name": "stdout",
     "output_type": "stream",
     "text": [
      "2019-02-07 20:00:04.600569: I tensorflow/core/platform/cpu_feature_guard.cc:141] Your CPU supports instructions that this TensorFlow binary was not compiled to use: AVX2 FMA\n",
      "2019-02-07 20:00:04.681223: I tensorflow/core/grappler/devices.cc:53] Number of eligible GPUs (core count >= 8): 0 (Note: TensorFlow was not compiled with CUDA support)\n",
      "2019-02-07 20:00:04.681312: I tensorflow/core/grappler/clusters/single_machine.cc:359] Starting new session\n",
      "2019-02-07 20:00:04.770914: I tensorflow/core/grappler/optimizers/meta_optimizer.cc:586] Optimization results for grappler item: graph_to_optimize\n",
      "2019-02-07 20:00:04.770935: I tensorflow/core/grappler/optimizers/meta_optimizer.cc:588]   model_pruner: Graph size after: 434 nodes (-77), 501 edges (-25), time = 4.166ms.\n",
      "2019-02-07 20:00:04.770941: I tensorflow/core/grappler/optimizers/meta_optimizer.cc:588]   function_optimizer: Graph size after: 434 nodes (0), 501 edges (0), time = 1.052ms.\n",
      "2019-02-07 20:00:04.770945: I tensorflow/core/grappler/optimizers/meta_optimizer.cc:588]   constant folding: Graph size after: 346 nodes (-88), 401 edges (-100), time = 23.49ms.\n",
      "2019-02-07 20:00:04.770969: I tensorflow/core/grappler/optimizers/meta_optimizer.cc:588]   shape_optimizer: Graph size after: 346 nodes (0), 401 edges (0), time = 1.186ms.\n",
      "2019-02-07 20:00:04.770974: I tensorflow/core/grappler/optimizers/meta_optimizer.cc:588]   arithmetic_optimizer: Graph size after: 253 nodes (-93), 401 edges (0), time = 10.268ms.\n",
      "2019-02-07 20:00:04.771034: I tensorflow/core/grappler/optimizers/meta_optimizer.cc:588]   loop_optimizer: Graph size after: 253 nodes (0), 401 edges (0), time = 1.414ms.\n",
      "2019-02-07 20:00:04.771044: I tensorflow/core/grappler/optimizers/meta_optimizer.cc:588]   dependency_optimizer: Graph size after: 239 nodes (-14), 375 edges (-26), time = 3.742ms.\n",
      "2019-02-07 20:00:04.771050: I tensorflow/core/grappler/optimizers/meta_optimizer.cc:588]   layout: Graph size after: 239 nodes (0), 375 edges (0), time = 0.583ms.\n",
      "2019-02-07 20:00:04.771055: I tensorflow/core/grappler/optimizers/meta_optimizer.cc:588]   memory_optimizer: Graph size after: 239 nodes (0), 375 edges (0), time = 14.261ms.\n",
      "2019-02-07 20:00:04.771060: I tensorflow/core/grappler/optimizers/meta_optimizer.cc:588]   model_pruner: Graph size after: 239 nodes (0), 375 edges (0), time = 1.263ms.\n",
      "2019-02-07 20:00:04.771064: I tensorflow/core/grappler/optimizers/meta_optimizer.cc:588]   function_optimizer: Graph size after: 239 nodes (0), 375 edges (0), time = 0.514ms.\n",
      "2019-02-07 20:00:04.771270: I tensorflow/core/grappler/optimizers/meta_optimizer.cc:588]   constant folding: Graph size after: 239 nodes (0), 375 edges (0), time = 6.344ms.\n",
      "2019-02-07 20:00:04.771295: I tensorflow/core/grappler/optimizers/meta_optimizer.cc:588]   shape_optimizer: Graph size after: 239 nodes (0), 375 edges (0), time = 0.726ms.\n",
      "2019-02-07 20:00:04.771300: I tensorflow/core/grappler/optimizers/meta_optimizer.cc:588]   arithmetic_optimizer: Graph size after: 239 nodes (0), 375 edges (0), time = 7.017ms.\n",
      "2019-02-07 20:00:04.771318: I tensorflow/core/grappler/optimizers/meta_optimizer.cc:588]   dependency_optimizer: Graph size after: 239 nodes (0), 375 edges (0), time = 3.185ms.\n"
     ]
    }
   ],
   "source": [
    "# Tensorflow to Tensorflow Lite      IMPORTANT --input_arrays=0 --output_arrays=Sigmoid\n",
    "!tflite_convert --output_file=saliency.tflite --graph_def_file=saliency.pb --input_arrays=0 --output_arrays=Sigmoid --inference_type=FLOAT\n"
   ]
  },
  {
   "cell_type": "code",
   "execution_count": null,
   "metadata": {},
   "outputs": [],
   "source": []
  }
 ],
 "metadata": {
  "kernelspec": {
   "display_name": "Python 3",
   "language": "python",
   "name": "python3"
  },
  "language_info": {
   "codemirror_mode": {
    "name": "ipython",
    "version": 3
   },
   "file_extension": ".py",
   "mimetype": "text/x-python",
   "name": "python",
   "nbconvert_exporter": "python",
   "pygments_lexer": "ipython3",
   "version": "3.6.5"
  }
 },
 "nbformat": 4,
 "nbformat_minor": 2
}
